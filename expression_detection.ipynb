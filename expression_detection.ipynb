{
 "cells": [
  {
   "cell_type": "markdown",
   "metadata": {},
   "source": [
    "# Face and expression detection"
   ]
  },
  {
   "cell_type": "markdown",
   "metadata": {},
   "source": [
    "#### This application detects faces using the Haar Cascade Classifier method and classify facial expressions using the models trained on the FER-2013 dataset ('expression_model' file).\n",
    "\n",
    "#### The application uses video capture from the webcam and outputs a summary of the captures facial expressions on closure.\n",
    "\n"
   ]
  },
  {
   "cell_type": "markdown",
   "metadata": {},
   "source": [
    "### Import required libraries"
   ]
  },
  {
   "cell_type": "code",
   "execution_count": 1,
   "metadata": {},
   "outputs": [],
   "source": [
    "# import libraries\n",
    "import pandas as pd\n",
    "import numpy as np\n",
    "import os\n",
    "import cv2\n",
    "import dlib\n",
    "from tensorflow.keras.models import load_model\n",
    "from tensorflow.keras.models import model_from_json\n",
    "from tensorflow.keras.utils import img_to_array"
   ]
  },
  {
   "cell_type": "markdown",
   "metadata": {},
   "source": [
    "### Load Haar Cascade Classifier"
   ]
  },
  {
   "cell_type": "code",
   "execution_count": 2,
   "metadata": {},
   "outputs": [],
   "source": [
    "# Load the Haar Cascade Classifier method for face detection\n",
    "# Reference: https://github.com/opencv/opencv/blob/master/data/haarcascades/haarcascade_frontalface_default.xml\n",
    "face_cascade = cv2.CascadeClassifier(\"haarcascade_frontalface_default.xml\")"
   ]
  },
  {
   "cell_type": "markdown",
   "metadata": {},
   "source": [
    "### Data preprocessing"
   ]
  },
  {
   "cell_type": "code",
   "execution_count": 3,
   "metadata": {},
   "outputs": [
    {
     "data": {
      "text/plain": [
       "array([0, 2, 4, 6, 3, 5, 1], dtype=int64)"
      ]
     },
     "execution_count": 3,
     "metadata": {},
     "output_type": "execute_result"
    }
   ],
   "source": [
    "# Load the dataset\n",
    "# Reference: https://www.kaggle.com/datasets/deadskull7/fer2013\n",
    "df = pd.read_csv('fer2013.csv')\n",
    "\n",
    "# Print unique values of the emotion col\n",
    "df['emotion'].unique()"
   ]
  },
  {
   "cell_type": "code",
   "execution_count": 4,
   "metadata": {},
   "outputs": [
    {
     "data": {
      "text/plain": [
       "['Angry', 'Disgust', 'Fear', 'Happy', 'Sad', 'Surprise', 'Neutral']"
      ]
     },
     "execution_count": 4,
     "metadata": {},
     "output_type": "execute_result"
    }
   ],
   "source": [
    "# Map expressions from dataset to string values\n",
    "exp_map = {\n",
    "    0: \"Angry\",\n",
    "    1: \"Disgust\",\n",
    "    2: \"Fear\",\n",
    "    3: \"Happy\",\n",
    "    4: \"Sad\",\n",
    "    5: \"Surprise\",\n",
    "    6: \"Neutral\"\n",
    "}\n",
    "\n",
    "# Create list with expression labels based on their integer values\n",
    "exp_labels = [exp_map[i] for i in sorted(df['emotion'].unique())]\n",
    "\n",
    "# Print expression labels\n",
    "exp_labels"
   ]
  },
  {
   "cell_type": "markdown",
   "metadata": {},
   "source": [
    "## Expression detection using VGG16 model"
   ]
  },
  {
   "cell_type": "markdown",
   "metadata": {},
   "source": [
    "#### Facial expression detection using model trained on FER2013 image dataset using VGG16"
   ]
  },
  {
   "cell_type": "code",
   "execution_count": 5,
   "metadata": {},
   "outputs": [],
   "source": [
    "# Load the pre-trained expression recognition model\n",
    "exp_model_VGG16 = load_model('expression_model_VGG16.h5')"
   ]
  },
  {
   "cell_type": "code",
   "execution_count": 7,
   "metadata": {},
   "outputs": [
    {
     "name": "stdout",
     "output_type": "stream",
     "text": [
      "\n",
      "Expression Summary:\n",
      "Angry: 4.88%\n",
      "Disgust: 0.00%\n",
      "Fear: 14.33%\n",
      "Happy: 21.34%\n",
      "Sad: 18.60%\n",
      "Surprise: 1.52%\n",
      "Neutral: 39.33%\n",
      "\n",
      "Overall State: Neutral\n"
     ]
    }
   ],
   "source": [
    "# Frame count variable\n",
    "frame_count = 0\n",
    "\n",
    "# Initialize dictionary for observed expressions \n",
    "exp_obs = {expression: 0 for expression in exp_labels}\n",
    "\n",
    "# Initialize video capture from webcam\n",
    "video = cv2.VideoCapture(0)\n",
    "\n",
    "while True:\n",
    "    ret, image = video.read()\n",
    "    if not ret:\n",
    "        continue\n",
    "\n",
    "    # Flip the image to match perspective from the FER-2013 database\n",
    "    image = cv2.flip(image, 1)\n",
    "\n",
    "    # Convert to grayscale\n",
    "    gray_image = cv2.cvtColor(image, cv2.COLOR_BGR2GRAY)\n",
    "\n",
    "    # Face detection using Haar Cascade Classifier\n",
    "    face_detected = face_cascade.detectMultiScale(gray_image, scaleFactor=1.12, minNeighbors=6)\n",
    "\n",
    "    # For each detected face (i.e. coordinates of detected face)\n",
    "    for (x, y, w, h) in face_detected:\n",
    "        # Draw rectangle around the detected face area: Used to identify the performace of the Haar Cascade Classifier\n",
    "        #cv2.rectangle(image, (x, y), (x + w, y + h), (255, 0, 0))\n",
    "\n",
    "        # Capture face region and repare image for model classification\n",
    "        face_region = image[y:y + h, x:x + w]  # Capture face only (colour images for the custom VGG16 model)\n",
    "        face_region = cv2.resize(face_region, (48, 48))  # Resize to 48x48\n",
    "        face_region = img_to_array(face_region)  # Convert image to numpy array (pixels)\n",
    "        face_region = np.expand_dims(face_region, axis=0) # Add batch dimension\n",
    "        \n",
    "        # Predict the emotion using the emotion recognition model\n",
    "        exp_prediction = exp_model_VGG16.predict(face_region, verbose=0)  # Predict using the pre-trained model\n",
    "        exp_max = np.argmax(exp_prediction)  # Index of expression with the highest probability\n",
    "        exp_text = exp_labels[exp_max]  # Map expression to corresponding index\n",
    "\n",
    "        # Update expression dictionary and frame count variable\n",
    "        exp_obs[exp_text] += 1\n",
    "        frame_count += 1\n",
    "\n",
    "    # Display the predicted emotion top left corner\n",
    "    cv2.putText(image, f\"State: {exp_text}\", (10, 30), cv2.FONT_HERSHEY_SIMPLEX, 1, (50, 255, 50), 2, cv2.LINE_AA)\n",
    "\n",
    "    # Display image with expression classification\n",
    "    cv2.imshow('Facial Expression Analysis', image)\n",
    "\n",
    "    # Press 'q' to exit the loop\n",
    "    if cv2.waitKey(1) & 0xFF == ord(\"q\"):\n",
    "        break\n",
    "\n",
    "# Release the video capture object and close all OpenCV windows\n",
    "video.release()\n",
    "cv2.destroyAllWindows()\n",
    "\n",
    "# Calculate percentages and determine the overall state\n",
    "exp_percentages = {expression: (count / frame_count) * 100 for expression, count in exp_obs.items()}\n",
    "overall_state = max(exp_obs, key=exp_obs.get)\n",
    "\n",
    "# Print the expression state summary\n",
    "print(\"\\nExpression Summary:\")\n",
    "for expression, percentage in exp_percentages.items():\n",
    "    print(f\"{expression}: {percentage:.2f}%\")\n",
    "\n",
    "print(f\"\\nOverall State: {overall_state}\")"
   ]
  },
  {
   "cell_type": "markdown",
   "metadata": {},
   "source": []
  },
  {
   "cell_type": "markdown",
   "metadata": {},
   "source": [
    "## Expression detection using custom CNN model"
   ]
  },
  {
   "cell_type": "markdown",
   "metadata": {},
   "source": [
    "#### Facial expression detection using custom CNN model trained on FER2013 CSV format dataset "
   ]
  },
  {
   "cell_type": "code",
   "execution_count": 8,
   "metadata": {},
   "outputs": [],
   "source": [
    "# Load the pre-trained expression recognition model\n",
    "exp_model_CSV = load_model('expression_model_CSV.h5')"
   ]
  },
  {
   "cell_type": "code",
   "execution_count": 10,
   "metadata": {},
   "outputs": [
    {
     "name": "stdout",
     "output_type": "stream",
     "text": [
      "\n",
      "Expression Summary:\n",
      "Angry: 3.82%\n",
      "Disgust: 0.00%\n",
      "Fear: 11.45%\n",
      "Happy: 26.72%\n",
      "Sad: 0.00%\n",
      "Surprise: 13.74%\n",
      "Neutral: 44.27%\n",
      "\n",
      "Overall State: Neutral\n"
     ]
    }
   ],
   "source": [
    "# Frame count variable\n",
    "frame_count = 0\n",
    "\n",
    "# Initialize dictionary for observed expressions \n",
    "exp_obs = {expression: 0 for expression in exp_labels}\n",
    "\n",
    "# Initialize video capture from webcam\n",
    "video = cv2.VideoCapture(0)\n",
    "\n",
    "while True:\n",
    "    ret, image = video.read()\n",
    "    if not ret:\n",
    "        continue\n",
    "\n",
    "    # Flip the image to match perspective from the FER-2013 database\n",
    "    image = cv2.flip(image, 1)\n",
    "\n",
    "    # Convert to grayscale\n",
    "    gray_image = cv2.cvtColor(image, cv2.COLOR_BGR2GRAY)\n",
    "\n",
    "    # Face detection using Haar Cascade Classifier\n",
    "    face_detected = face_cascade.detectMultiScale(gray_image, scaleFactor=1.12, minNeighbors=6)\n",
    "\n",
    "    # For each detected face (i.e. coordinates of detected face)\n",
    "    for (x, y, w, h) in face_detected:\n",
    "        # Draw rectangle around the detected face area: Used to identify the performace of the Haar Cascade Classifier\n",
    "        #cv2.rectangle(image, (x, y), (x + w, y + h), (255, 0, 0))\n",
    "\n",
    "        # Capture face region and repare image for model classification\n",
    "        face_region = gray_image[y:y + h, x:x + w]  # Capture face only (greyscale images for the csv model)\n",
    "        face_region = cv2.resize(face_region, (48, 48))  # Resize to 48x48\n",
    "        face_region = img_to_array(face_region)  # Convert image to numpy array (pixels)\n",
    "        face_region = np.expand_dims(face_region, axis=0) # Add batch dimension\n",
    "        \n",
    "        # Predict the emotion using the emotion recognition model\n",
    "        exp_prediction = exp_model_CSV.predict(face_region, verbose=0)  # Predict using the pre-trained model\n",
    "        exp_max = np.argmax(exp_prediction)  # Index of expression with the highest probability\n",
    "        exp_text = exp_labels[exp_max]  # Map expression to corresponding index\n",
    "\n",
    "        # Update expression dictionary and frame count variable\n",
    "        exp_obs[exp_text] += 1\n",
    "        frame_count += 1\n",
    "\n",
    "    # Display the predicted emotion top left corner\n",
    "    cv2.putText(image, f\"State: {exp_text}\", (10, 30), cv2.FONT_HERSHEY_SIMPLEX, 1, (50, 255, 50), 2, cv2.LINE_AA)\n",
    "\n",
    "    # Display image with expression classification\n",
    "    cv2.imshow('Facial Expression Analysis', image)\n",
    "\n",
    "    # Press 'q' to exit the loop\n",
    "    if cv2.waitKey(1) & 0xFF == ord(\"q\"):\n",
    "        break\n",
    "\n",
    "# Release the video capture object and close all OpenCV windows\n",
    "video.release()\n",
    "cv2.destroyAllWindows()\n",
    "\n",
    "# Calculate percentages and determine the overall state\n",
    "exp_percentages = {expression: (count / frame_count) * 100 for expression, count in exp_obs.items()}\n",
    "overall_state = max(exp_obs, key=exp_obs.get)\n",
    "\n",
    "# Print the expression state summary\n",
    "print(\"\\nExpression Summary:\")\n",
    "for expression, percentage in exp_percentages.items():\n",
    "    print(f\"{expression}: {percentage:.2f}%\")\n",
    "\n",
    "print(f\"\\nOverall State: {overall_state}\")"
   ]
  },
  {
   "cell_type": "markdown",
   "metadata": {},
   "source": [
    "## Conclusion"
   ]
  },
  {
   "cell_type": "code",
   "execution_count": null,
   "metadata": {},
   "outputs": [],
   "source": []
  }
 ],
 "metadata": {
  "kernelspec": {
   "display_name": "Python 3.11 Kernel",
   "language": "python",
   "name": "python311"
  },
  "language_info": {
   "codemirror_mode": {
    "name": "ipython",
    "version": 3
   },
   "file_extension": ".py",
   "mimetype": "text/x-python",
   "name": "python",
   "nbconvert_exporter": "python",
   "pygments_lexer": "ipython3",
   "version": "3.11.10"
  }
 },
 "nbformat": 4,
 "nbformat_minor": 4
}
